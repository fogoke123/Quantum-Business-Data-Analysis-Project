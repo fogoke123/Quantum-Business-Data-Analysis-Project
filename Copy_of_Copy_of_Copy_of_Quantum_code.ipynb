{
  "nbformat": 4,
  "nbformat_minor": 0,
  "metadata": {
    "colab": {
      "name": "Copy of Copy of Copy of Quantum code",
      "provenance": [],
      "authorship_tag": "ABX9TyN+0J9VfUU03JAWdfVSE6/F",
      "include_colab_link": true
    },
    "kernelspec": {
      "name": "python3",
      "display_name": "Python 3"
    },
    "language_info": {
      "name": "python"
    }
  },
  "cells": [
    {
      "cell_type": "markdown",
      "metadata": {
        "id": "view-in-github",
        "colab_type": "text"
      },
      "source": [
        "<a href=\"https://colab.research.google.com/github/fogoke123/Quantum-Business-Data-Analysis-Project/blob/main/Copy_of_Copy_of_Copy_of_Quantum_code.ipynb\" target=\"_parent\"><img src=\"https://colab.research.google.com/assets/colab-badge.svg\" alt=\"Open In Colab\"/></a>"
      ]
    },
    {
      "cell_type": "code",
      "execution_count": null,
      "metadata": {
        "id": "A5Fdb7F1nYYL",
        "colab": {
          "base_uri": "https://localhost:8080/"
        },
        "outputId": "ec816f20-4405-4be8-9b35-170729594b3d"
      },
      "outputs": [
        {
          "output_type": "stream",
          "name": "stdout",
          "text": [
            "<class 'dict'>\n",
            "{'name': 'Jack Jones', 'age': '16', 'postcode': 'AB5 3DF'}\n"
          ]
        }
      ],
      "source": [
        "def details():\n",
        "  \n",
        "  jack_info = {\"name\":\"Jack Jones\",\"age\":\"16\", \"postcode\":\"AB5 3DF\"}\n",
        "  print(type(jack_info))\n",
        "  print(jack_info)\n",
        "\n",
        "details()\n"
      ]
    }
  ]
}